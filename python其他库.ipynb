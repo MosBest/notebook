{
 "cells": [
  {
   "cell_type": "markdown",
   "metadata": {},
   "source": [
    "# getopt库"
   ]
  },
  {
   "cell_type": "code",
   "execution_count": null,
   "metadata": {},
   "outputs": [],
   "source": [
    "import getopt\n",
    "import os\n",
    "import sys\n",
    "\n",
    "def print_help():\n",
    "    string = \"\"\"\n",
    "用法：\n",
    "    python3 merge_code.py [背景图像路径] [缺陷图像路径]\n",
    "\n",
    "帮助选项：\n",
    "    -h, --help          显示帮助选项\n",
    "    \"\"\"\n",
    "    print(string)\n",
    "\n",
    "\n",
    "def print_error():\n",
    "    print(\"输入有误,请按以下格式操作: python3 merge_code.py [背景图像路径] [缺陷图像路径]\")\n",
    "\n",
    "\n",
    "def receiving_parameters(argv):\n",
    "\n",
    "    opts, args = getopt.getopt(argv[1:], '-h', ['help'])\n",
    "    for opt_name, opt_value in opts:\n",
    "        if opt_name in ('-h', '--help'):\n",
    "            print_help()\n",
    "            return False\n",
    "\n",
    "    if len(argv[1:]) != 2:\n",
    "        print_error()\n",
    "        return False\n",
    "\n",
    "    if not os.path.exists(argv[1]):\n",
    "        print(\"不存在背景图像路径：\", argv[1])\n",
    "        return False\n",
    "    if not os.path.exists(argv[2]):\n",
    "        print(\"不存在缺陷图像路径：\", argv[2])\n",
    "        return False\n",
    "\n",
    "    print(\"input background image path:\", argv[1])\n",
    "    print(\"defect image path:\", argv[2])\n",
    "\n",
    "    return True\n",
    "receiving_parameters(sys.argv)"
   ]
  },
  {
   "cell_type": "markdown",
   "metadata": {},
   "source": [
    "# 元组 tuple   eg: ('1', '2')"
   ]
  },
  {
   "cell_type": "code",
   "execution_count": 2,
   "metadata": {},
   "outputs": [
    {
     "name": "stdout",
     "output_type": "stream",
     "text": [
      "('12', '', '')[0] =  12\n",
      "('12')[0] =  1\n"
     ]
    }
   ],
   "source": [
    "print(\"('12', '', '')[0] = \", ('12', '', '')[0])\n",
    "print(\"('12')[0] = \", ('12')[0])"
   ]
  },
  {
   "cell_type": "code",
   "execution_count": null,
   "metadata": {},
   "outputs": [],
   "source": []
  }
 ],
 "metadata": {
  "kernelspec": {
   "display_name": "Python 3",
   "language": "python",
   "name": "python3"
  },
  "language_info": {
   "codemirror_mode": {
    "name": "ipython",
    "version": 3
   },
   "file_extension": ".py",
   "mimetype": "text/x-python",
   "name": "python",
   "nbconvert_exporter": "python",
   "pygments_lexer": "ipython3",
   "version": "3.6.7"
  }
 },
 "nbformat": 4,
 "nbformat_minor": 2
}
