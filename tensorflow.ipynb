{
 "cells": [
  {
   "cell_type": "markdown",
   "metadata": {},
   "source": [
    "# 1. tf.nn.conv2d vs tf.layers.conv2d\n"
   ]
  },
  {
   "cell_type": "markdown",
   "metadata": {},
   "source": [
    "# 2. 将 numpy.array 转为 tensor 方法\n",
    "## tf.convert_to_tensor\n",
    "    logits = tf.convert_to_tensor(np.random.sample((4,4)))"
   ]
  },
  {
   "cell_type": "code",
   "execution_count": 2,
   "metadata": {},
   "outputs": [],
   "source": [
    "import cv2\n",
    "import numpy as np"
   ]
  },
  {
   "cell_type": "code",
   "execution_count": 3,
   "metadata": {},
   "outputs": [],
   "source": [
    "a = cv2.imread(\"./tt23-good.png\")"
   ]
  },
  {
   "cell_type": "code",
   "execution_count": 4,
   "metadata": {},
   "outputs": [],
   "source": [
    "b = a.tolist()"
   ]
  },
  {
   "cell_type": "code",
   "execution_count": 5,
   "metadata": {},
   "outputs": [],
   "source": [
    "c = np.array(b)"
   ]
  },
  {
   "cell_type": "code",
   "execution_count": 6,
   "metadata": {},
   "outputs": [
    {
     "ename": "error",
     "evalue": "OpenCV(4.0.1) /io/opencv/modules/highgui/src/precomp.hpp:131: error: (-215:Assertion failed) src_depth != CV_16F && src_depth != CV_32S in function 'convertToShow'\n",
     "output_type": "error",
     "traceback": [
      "\u001b[0;31m---------------------------------------------------------------------------\u001b[0m",
      "\u001b[0;31merror\u001b[0m                                     Traceback (most recent call last)",
      "\u001b[0;32m<ipython-input-6-acb30be58d44>\u001b[0m in \u001b[0;36m<module>\u001b[0;34m()\u001b[0m\n\u001b[0;32m----> 1\u001b[0;31m \u001b[0mcv2\u001b[0m\u001b[0;34m.\u001b[0m\u001b[0mimshow\u001b[0m\u001b[0;34m(\u001b[0m\u001b[0;34m\"1\"\u001b[0m\u001b[0;34m,\u001b[0m\u001b[0mc\u001b[0m\u001b[0;34m.\u001b[0m\u001b[0mastype\u001b[0m\u001b[0;34m(\u001b[0m\u001b[0mnp\u001b[0m\u001b[0;34m.\u001b[0m\u001b[0mint64\u001b[0m\u001b[0;34m)\u001b[0m\u001b[0;34m)\u001b[0m\u001b[0;34m\u001b[0m\u001b[0;34m\u001b[0m\u001b[0m\n\u001b[0m\u001b[1;32m      2\u001b[0m \u001b[0mcv2\u001b[0m\u001b[0;34m.\u001b[0m\u001b[0mwaitKey\u001b[0m\u001b[0;34m(\u001b[0m\u001b[0;36m0\u001b[0m\u001b[0;34m)\u001b[0m\u001b[0;34m\u001b[0m\u001b[0;34m\u001b[0m\u001b[0m\n",
      "\u001b[0;31merror\u001b[0m: OpenCV(4.0.1) /io/opencv/modules/highgui/src/precomp.hpp:131: error: (-215:Assertion failed) src_depth != CV_16F && src_depth != CV_32S in function 'convertToShow'\n"
     ]
    }
   ],
   "source": [
    "cv2.imshow(\"1\",c.astype(np.int64))\n",
    "cv2.waitKey(0)"
   ]
  },
  {
   "cell_type": "code",
   "execution_count": 6,
   "metadata": {},
   "outputs": [
    {
     "data": {
      "text/plain": [
       "array([[[76, 76, 76],\n",
       "        [72, 72, 72],\n",
       "        [72, 72, 72],\n",
       "        ...,\n",
       "        [68, 68, 68],\n",
       "        [72, 72, 72],\n",
       "        [75, 75, 75]],\n",
       "\n",
       "       [[80, 80, 80],\n",
       "        [76, 76, 76],\n",
       "        [74, 74, 74],\n",
       "        ...,\n",
       "        [65, 65, 65],\n",
       "        [71, 71, 71],\n",
       "        [75, 75, 75]],\n",
       "\n",
       "       [[85, 85, 85],\n",
       "        [82, 82, 82],\n",
       "        [78, 78, 78],\n",
       "        ...,\n",
       "        [65, 65, 65],\n",
       "        [70, 70, 70],\n",
       "        [76, 76, 76]],\n",
       "\n",
       "       ...,\n",
       "\n",
       "       [[70, 70, 70],\n",
       "        [69, 69, 69],\n",
       "        [67, 67, 67],\n",
       "        ...,\n",
       "        [81, 81, 81],\n",
       "        [79, 79, 79],\n",
       "        [77, 77, 77]],\n",
       "\n",
       "       [[69, 69, 69],\n",
       "        [65, 65, 65],\n",
       "        [61, 61, 61],\n",
       "        ...,\n",
       "        [87, 87, 87],\n",
       "        [85, 85, 85],\n",
       "        [82, 82, 82]],\n",
       "\n",
       "       [[74, 74, 74],\n",
       "        [68, 68, 68],\n",
       "        [61, 61, 61],\n",
       "        ...,\n",
       "        [91, 91, 91],\n",
       "        [90, 90, 90],\n",
       "        [86, 86, 86]]], dtype=uint8)"
      ]
     },
     "execution_count": 6,
     "metadata": {},
     "output_type": "execute_result"
    }
   ],
   "source": []
  },
  {
   "cell_type": "code",
   "execution_count": null,
   "metadata": {},
   "outputs": [],
   "source": []
  }
 ],
 "metadata": {
  "kernelspec": {
   "display_name": "Python 3",
   "language": "python",
   "name": "python3"
  },
  "language_info": {
   "codemirror_mode": {
    "name": "ipython",
    "version": 3
   },
   "file_extension": ".py",
   "mimetype": "text/x-python",
   "name": "python",
   "nbconvert_exporter": "python",
   "pygments_lexer": "ipython3",
   "version": "3.6.7"
  }
 },
 "nbformat": 4,
 "nbformat_minor": 2
}
