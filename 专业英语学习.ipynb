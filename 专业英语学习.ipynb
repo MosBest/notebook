{
 "cells": [
  {
   "cell_type": "code",
   "execution_count": null,
   "metadata": {},
   "outputs": [],
   "source": [
    "百度 托福考满分\n",
    "用考试专业测试自己的英语能力"
   ]
  },
  {
   "cell_type": "code",
   "execution_count": null,
   "metadata": {},
   "outputs": [],
   "source": [
    "下周末之前， 做托福线上考试 听力，阅读 分数"
   ]
  },
  {
   "cell_type": "code",
   "execution_count": null,
   "metadata": {},
   "outputs": [],
   "source": [
    "i+1 language acquisiotion theory\n"
   ]
  },
  {
   "cell_type": "code",
   "execution_count": null,
   "metadata": {},
   "outputs": [],
   "source": [
    "1 2 3 4 5 ... i i+1 ... ... 25 26 27\n",
    "i: learner is here\n",
    "i+1: the learner needs comprehensible input which is here\n",
    "\n",
    "就是如果你是第i级， 那么就用i+1级的难度作为自己的输入"
   ]
  },
  {
   "cell_type": "code",
   "execution_count": null,
   "metadata": {},
   "outputs": [],
   "source": [
    "input 输入：阅读过的 和 听过的\n",
    "output 输出： 口语 表达"
   ]
  },
  {
   "cell_type": "code",
   "execution_count": null,
   "metadata": {},
   "outputs": [],
   "source": [
    "1.2 Learning Materials 必须重看,截屏，记录\n",
    "\n",
    "\n",
    "BBC LEARNING english : 初学者\n",
    "time for kids : 初学者\n",
    "The New York Times Learning Blog: 大学学生\n",
    "Entrepreneur Online Magazine: 企业家\n",
    "financial times app 很不错\n"
   ]
  },
  {
   "cell_type": "markdown",
   "metadata": {},
   "source": [
    "before reading\n",
    "    读之前确定阅读目标\n",
    "    确定作者的写作目的\n",
    "    想想自己到底需要什么\n",
    "during reading\n",
    "\n",
    "Afrer reading\n",
    "通过训练发现，进行总结"
   ]
  },
  {
   "cell_type": "code",
   "execution_count": null,
   "metadata": {},
   "outputs": [],
   "source": [
    "快速阅读技巧：\n",
    "chunking : 将句子分块，飞快来读。"
   ]
  },
  {
   "cell_type": "code",
   "execution_count": null,
   "metadata": {},
   "outputs": [],
   "source": [
    "顺句驱动"
   ]
  },
  {
   "cell_type": "code",
   "execution_count": null,
   "metadata": {},
   "outputs": [],
   "source": [
    "做英语阅读笔记方法"
   ]
  },
  {
   "cell_type": "code",
   "execution_count": null,
   "metadata": {},
   "outputs": [],
   "source": []
  },
  {
   "cell_type": "code",
   "execution_count": null,
   "metadata": {},
   "outputs": [],
   "source": []
  },
  {
   "cell_type": "code",
   "execution_count": null,
   "metadata": {},
   "outputs": [],
   "source": []
  },
  {
   "cell_type": "code",
   "execution_count": null,
   "metadata": {},
   "outputs": [],
   "source": []
  }
 ],
 "metadata": {
  "kernelspec": {
   "display_name": "Python 3",
   "language": "python",
   "name": "python3"
  },
  "language_info": {
   "codemirror_mode": {
    "name": "ipython",
    "version": 3
   },
   "file_extension": ".py",
   "mimetype": "text/x-python",
   "name": "python",
   "nbconvert_exporter": "python",
   "pygments_lexer": "ipython3",
   "version": "3.6.7"
  }
 },
 "nbformat": 4,
 "nbformat_minor": 2
}
